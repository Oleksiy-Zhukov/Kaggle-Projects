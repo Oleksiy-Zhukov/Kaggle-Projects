{
 "cells": [
  {
   "cell_type": "markdown",
   "id": "d86b8d6c",
   "metadata": {
    "papermill": {
     "duration": 0.009428,
     "end_time": "2023-03-24T23:59:56.204971",
     "exception": false,
     "start_time": "2023-03-24T23:59:56.195543",
     "status": "completed"
    },
    "tags": []
   },
   "source": [
    "# Introduction:"
   ]
  },
  {
   "cell_type": "markdown",
   "id": "e58ef0ac",
   "metadata": {
    "papermill": {
     "duration": 0.007712,
     "end_time": "2023-03-24T23:59:56.220807",
     "exception": false,
     "start_time": "2023-03-24T23:59:56.213095",
     "status": "completed"
    },
    "tags": []
   },
   "source": [
    "In this project, we will be working on a digit recognition problem using the popular MNIST dataset. The MNIST dataset consists of a large number of images of handwritten digits ranging from 0 to 9. Our goal is to develop a machine learning model that can accurately classify these images and correctly identify the digit that is being represented.\n",
    "\n",
    "To accomplish this, we will be using a convolutional neural network (CNN), which is a type of deep learning algorithm that is particularly well-suited for image recognition tasks. We will be implementing our CNN using the Keras library in Python, which provides an easy-to-use interface for building and training deep learning models.\n",
    "\n",
    "The accuracy of our model will be evaluated using a test set of images that the model has never seen before. Our ultimate goal is to develop a model that can achieve high accuracy on the test set, demonstrating its ability to generalize well to new, unseen data."
   ]
  },
  {
   "cell_type": "markdown",
   "id": "2a37e10b",
   "metadata": {
    "papermill": {
     "duration": 0.007701,
     "end_time": "2023-03-24T23:59:56.236358",
     "exception": false,
     "start_time": "2023-03-24T23:59:56.228657",
     "status": "completed"
    },
    "tags": []
   },
   "source": [
    "<img src=\"https://www.upgrad.com/blog/wp-content/uploads/2020/12/1-4.png\">"
   ]
  },
  {
   "cell_type": "markdown",
   "id": "ffa5def6",
   "metadata": {
    "papermill": {
     "duration": 0.007735,
     "end_time": "2023-03-24T23:59:56.251974",
     "exception": false,
     "start_time": "2023-03-24T23:59:56.244239",
     "status": "completed"
    },
    "tags": []
   },
   "source": [
    "# Table of Contents\n",
    "\n",
    "* &nbsp; **[Introduction](#Introduction)**\n",
    "    \n",
    "* &nbsp; **[Import](#Import)**\n",
    "\n",
    "* &nbsp; **[Load and Check Data](#Load-and-Check-Data)**\n",
    "   \n",
    "* &nbsp; **[Data Preparation](#Data-Preparation)**\n",
    "\n",
    "    * &nbsp; **[Normalization](#Normalization)**\n",
    "    \n",
    "    * &nbsp; **[Reshape](#Reshape)**\n",
    "    \n",
    "    * &nbsp; **[Label Encoding](#Label-Encoding)**\n",
    "    \n",
    "    * &nbsp; **[Train Test Split](#Train-Test-Split)**\n",
    "       \n",
    "\n",
    "* &nbsp; **[Data Augmentation](#Data-Augmentation)**\n",
    "    \n",
    "* &nbsp; **[CNN Building](#CNN-Building)**\n",
    "\n",
    "    * &nbsp; **[CNN Architecture](#CNN-Architecture)**\n",
    "    \n",
    "    * &nbsp; **[Set up Optimizer and Annealer](#Set-up-Optimizer-and-Annealer)**\n",
    "    \n",
    "    * &nbsp; **[Fit the Model](#Fit-the-Model)**\n",
    "\n",
    "* &nbsp; **[Prediction](#Prediction)**\n"
   ]
  },
  {
   "cell_type": "markdown",
   "id": "08570ee2",
   "metadata": {
    "papermill": {
     "duration": 0.007719,
     "end_time": "2023-03-24T23:59:56.267597",
     "exception": false,
     "start_time": "2023-03-24T23:59:56.259878",
     "status": "completed"
    },
    "tags": []
   },
   "source": [
    "# Import:"
   ]
  },
  {
   "cell_type": "code",
   "execution_count": 1,
   "id": "bf92477e",
   "metadata": {
    "execution": {
     "iopub.execute_input": "2023-03-24T23:59:56.286266Z",
     "iopub.status.busy": "2023-03-24T23:59:56.285237Z",
     "iopub.status.idle": "2023-03-25T00:00:09.721148Z",
     "shell.execute_reply": "2023-03-25T00:00:09.719982Z"
    },
    "papermill": {
     "duration": 13.447936,
     "end_time": "2023-03-25T00:00:09.724060",
     "exception": false,
     "start_time": "2023-03-24T23:59:56.276124",
     "status": "completed"
    },
    "tags": []
   },
   "outputs": [
    {
     "name": "stdout",
     "output_type": "stream",
     "text": [
      "Collecting kaleido\r\n",
      "  Downloading kaleido-0.2.1-py2.py3-none-manylinux1_x86_64.whl (79.9 MB)\r\n",
      "\u001b[2K     \u001b[90m━━━━━━━━━━━━━━━━━━━━━━━━━━━━━━━━━━━━━━━━\u001b[0m \u001b[32m79.9/79.9 MB\u001b[0m \u001b[31m16.2 MB/s\u001b[0m eta \u001b[36m0:00:00\u001b[0m\r\n",
      "\u001b[?25hInstalling collected packages: kaleido\r\n",
      "Successfully installed kaleido-0.2.1\r\n",
      "\u001b[33mWARNING: Running pip as the 'root' user can result in broken permissions and conflicting behaviour with the system package manager. It is recommended to use a virtual environment instead: https://pip.pypa.io/warnings/venv\u001b[0m\u001b[33m\r\n",
      "\u001b[0m"
     ]
    }
   ],
   "source": [
    "# Install Kaleido package to transform plotly charts to svg and png format, so they are visible on GitHub\n",
    "!pip install -U kaleido"
   ]
  },
  {
   "cell_type": "code",
   "execution_count": 2,
   "id": "9f95cb1c",
   "metadata": {
    "_cell_guid": "b1076dfc-b9ad-4769-8c92-a6c4dae69d19",
    "_uuid": "8f2839f25d086af736a60e9eeb907d3b93b6e0e5",
    "execution": {
     "iopub.execute_input": "2023-03-25T00:00:09.746144Z",
     "iopub.status.busy": "2023-03-25T00:00:09.745814Z",
     "iopub.status.idle": "2023-03-25T00:00:20.908067Z",
     "shell.execute_reply": "2023-03-25T00:00:20.906974Z"
    },
    "papermill": {
     "duration": 11.176052,
     "end_time": "2023-03-25T00:00:20.910319",
     "exception": false,
     "start_time": "2023-03-25T00:00:09.734267",
     "status": "completed"
    },
    "tags": []
   },
   "outputs": [
    {
     "name": "stdout",
     "output_type": "stream",
     "text": [
      "['sample_submission.csv', 'train.csv', 'test.csv']\n"
     ]
    }
   ],
   "source": [
    "import numpy as np\n",
    "import pandas as pd\n",
    "\n",
    "import plotly.express as px\n",
    "import matplotlib.pyplot as plt\n",
    "import seaborn as sns\n",
    "\n",
    "from keras.models import Sequential\n",
    "from keras.layers import Dense , Dropout, Flatten, Conv2D, MaxPool2D, BatchNormalization\n",
    "from keras.optimizers import Adam ,RMSprop\n",
    "from sklearn.model_selection import train_test_split\n",
    "from keras.utils.np_utils import to_categorical\n",
    "from keras.preprocessing.image import ImageDataGenerator\n",
    "from keras.callbacks import LearningRateScheduler\n",
    "\n",
    "import warnings\n",
    "# filter warnings\n",
    "warnings.filterwarnings('ignore')\n",
    "\n",
    "# Input data files are available in the \"../input/\" directory.\n",
    "\n",
    "import os\n",
    "print(os.listdir(\"../input/digit-recognizer/\"))"
   ]
  },
  {
   "cell_type": "markdown",
   "id": "33e21ca3",
   "metadata": {
    "papermill": {
     "duration": 0.009316,
     "end_time": "2023-03-25T00:00:20.929408",
     "exception": false,
     "start_time": "2023-03-25T00:00:20.920092",
     "status": "completed"
    },
    "tags": []
   },
   "source": [
    "# Load and Check Data"
   ]
  },
  {
   "cell_type": "code",
   "execution_count": 3,
   "id": "fcd1ceaf",
   "metadata": {
    "execution": {
     "iopub.execute_input": "2023-03-25T00:00:20.951333Z",
     "iopub.status.busy": "2023-03-25T00:00:20.949230Z",
     "iopub.status.idle": "2023-03-25T00:00:24.037313Z",
     "shell.execute_reply": "2023-03-25T00:00:24.036256Z"
    },
    "papermill": {
     "duration": 3.101516,
     "end_time": "2023-03-25T00:00:24.040232",
     "exception": false,
     "start_time": "2023-03-25T00:00:20.938716",
     "status": "completed"
    },
    "tags": []
   },
   "outputs": [
    {
     "data": {
      "text/html": [
       "<div>\n",
       "<style scoped>\n",
       "    .dataframe tbody tr th:only-of-type {\n",
       "        vertical-align: middle;\n",
       "    }\n",
       "\n",
       "    .dataframe tbody tr th {\n",
       "        vertical-align: top;\n",
       "    }\n",
       "\n",
       "    .dataframe thead th {\n",
       "        text-align: right;\n",
       "    }\n",
       "</style>\n",
       "<table border=\"1\" class=\"dataframe\">\n",
       "  <thead>\n",
       "    <tr style=\"text-align: right;\">\n",
       "      <th></th>\n",
       "      <th>label</th>\n",
       "      <th>pixel0</th>\n",
       "      <th>pixel1</th>\n",
       "      <th>pixel2</th>\n",
       "      <th>pixel3</th>\n",
       "      <th>pixel4</th>\n",
       "      <th>pixel5</th>\n",
       "      <th>pixel6</th>\n",
       "      <th>pixel7</th>\n",
       "      <th>pixel8</th>\n",
       "      <th>...</th>\n",
       "      <th>pixel774</th>\n",
       "      <th>pixel775</th>\n",
       "      <th>pixel776</th>\n",
       "      <th>pixel777</th>\n",
       "      <th>pixel778</th>\n",
       "      <th>pixel779</th>\n",
       "      <th>pixel780</th>\n",
       "      <th>pixel781</th>\n",
       "      <th>pixel782</th>\n",
       "      <th>pixel783</th>\n",
       "    </tr>\n",
       "  </thead>\n",
       "  <tbody>\n",
       "    <tr>\n",
       "      <th>0</th>\n",
       "      <td>1</td>\n",
       "      <td>0</td>\n",
       "      <td>0</td>\n",
       "      <td>0</td>\n",
       "      <td>0</td>\n",
       "      <td>0</td>\n",
       "      <td>0</td>\n",
       "      <td>0</td>\n",
       "      <td>0</td>\n",
       "      <td>0</td>\n",
       "      <td>...</td>\n",
       "      <td>0</td>\n",
       "      <td>0</td>\n",
       "      <td>0</td>\n",
       "      <td>0</td>\n",
       "      <td>0</td>\n",
       "      <td>0</td>\n",
       "      <td>0</td>\n",
       "      <td>0</td>\n",
       "      <td>0</td>\n",
       "      <td>0</td>\n",
       "    </tr>\n",
       "    <tr>\n",
       "      <th>1</th>\n",
       "      <td>0</td>\n",
       "      <td>0</td>\n",
       "      <td>0</td>\n",
       "      <td>0</td>\n",
       "      <td>0</td>\n",
       "      <td>0</td>\n",
       "      <td>0</td>\n",
       "      <td>0</td>\n",
       "      <td>0</td>\n",
       "      <td>0</td>\n",
       "      <td>...</td>\n",
       "      <td>0</td>\n",
       "      <td>0</td>\n",
       "      <td>0</td>\n",
       "      <td>0</td>\n",
       "      <td>0</td>\n",
       "      <td>0</td>\n",
       "      <td>0</td>\n",
       "      <td>0</td>\n",
       "      <td>0</td>\n",
       "      <td>0</td>\n",
       "    </tr>\n",
       "    <tr>\n",
       "      <th>2</th>\n",
       "      <td>1</td>\n",
       "      <td>0</td>\n",
       "      <td>0</td>\n",
       "      <td>0</td>\n",
       "      <td>0</td>\n",
       "      <td>0</td>\n",
       "      <td>0</td>\n",
       "      <td>0</td>\n",
       "      <td>0</td>\n",
       "      <td>0</td>\n",
       "      <td>...</td>\n",
       "      <td>0</td>\n",
       "      <td>0</td>\n",
       "      <td>0</td>\n",
       "      <td>0</td>\n",
       "      <td>0</td>\n",
       "      <td>0</td>\n",
       "      <td>0</td>\n",
       "      <td>0</td>\n",
       "      <td>0</td>\n",
       "      <td>0</td>\n",
       "    </tr>\n",
       "    <tr>\n",
       "      <th>3</th>\n",
       "      <td>4</td>\n",
       "      <td>0</td>\n",
       "      <td>0</td>\n",
       "      <td>0</td>\n",
       "      <td>0</td>\n",
       "      <td>0</td>\n",
       "      <td>0</td>\n",
       "      <td>0</td>\n",
       "      <td>0</td>\n",
       "      <td>0</td>\n",
       "      <td>...</td>\n",
       "      <td>0</td>\n",
       "      <td>0</td>\n",
       "      <td>0</td>\n",
       "      <td>0</td>\n",
       "      <td>0</td>\n",
       "      <td>0</td>\n",
       "      <td>0</td>\n",
       "      <td>0</td>\n",
       "      <td>0</td>\n",
       "      <td>0</td>\n",
       "    </tr>\n",
       "    <tr>\n",
       "      <th>4</th>\n",
       "      <td>0</td>\n",
       "      <td>0</td>\n",
       "      <td>0</td>\n",
       "      <td>0</td>\n",
       "      <td>0</td>\n",
       "      <td>0</td>\n",
       "      <td>0</td>\n",
       "      <td>0</td>\n",
       "      <td>0</td>\n",
       "      <td>0</td>\n",
       "      <td>...</td>\n",
       "      <td>0</td>\n",
       "      <td>0</td>\n",
       "      <td>0</td>\n",
       "      <td>0</td>\n",
       "      <td>0</td>\n",
       "      <td>0</td>\n",
       "      <td>0</td>\n",
       "      <td>0</td>\n",
       "      <td>0</td>\n",
       "      <td>0</td>\n",
       "    </tr>\n",
       "  </tbody>\n",
       "</table>\n",
       "<p>5 rows × 785 columns</p>\n",
       "</div>"
      ],
      "text/plain": [
       "   label  pixel0  pixel1  pixel2  pixel3  pixel4  pixel5  pixel6  pixel7  \\\n",
       "0      1       0       0       0       0       0       0       0       0   \n",
       "1      0       0       0       0       0       0       0       0       0   \n",
       "2      1       0       0       0       0       0       0       0       0   \n",
       "3      4       0       0       0       0       0       0       0       0   \n",
       "4      0       0       0       0       0       0       0       0       0   \n",
       "\n",
       "   pixel8  ...  pixel774  pixel775  pixel776  pixel777  pixel778  pixel779  \\\n",
       "0       0  ...         0         0         0         0         0         0   \n",
       "1       0  ...         0         0         0         0         0         0   \n",
       "2       0  ...         0         0         0         0         0         0   \n",
       "3       0  ...         0         0         0         0         0         0   \n",
       "4       0  ...         0         0         0         0         0         0   \n",
       "\n",
       "   pixel780  pixel781  pixel782  pixel783  \n",
       "0         0         0         0         0  \n",
       "1         0         0         0         0  \n",
       "2         0         0         0         0  \n",
       "3         0         0         0         0  \n",
       "4         0         0         0         0  \n",
       "\n",
       "[5 rows x 785 columns]"
      ]
     },
     "metadata": {},
     "output_type": "display_data"
    },
    {
     "name": "stdout",
     "output_type": "stream",
     "text": [
      "train shape: (42000, 785)\n"
     ]
    }
   ],
   "source": [
    "# Load train data\n",
    "train = pd.read_csv(\"/kaggle/input/digit-recognizer/train.csv\")\n",
    "display(train.head())\n",
    "print(f\"train shape: {train.shape}\")"
   ]
  },
  {
   "cell_type": "code",
   "execution_count": 4,
   "id": "c2e70b70",
   "metadata": {
    "execution": {
     "iopub.execute_input": "2023-03-25T00:00:24.063156Z",
     "iopub.status.busy": "2023-03-25T00:00:24.062851Z",
     "iopub.status.idle": "2023-03-25T00:00:26.099051Z",
     "shell.execute_reply": "2023-03-25T00:00:26.097818Z"
    },
    "papermill": {
     "duration": 2.049337,
     "end_time": "2023-03-25T00:00:26.101205",
     "exception": false,
     "start_time": "2023-03-25T00:00:24.051868",
     "status": "completed"
    },
    "tags": []
   },
   "outputs": [
    {
     "data": {
      "text/html": [
       "<div>\n",
       "<style scoped>\n",
       "    .dataframe tbody tr th:only-of-type {\n",
       "        vertical-align: middle;\n",
       "    }\n",
       "\n",
       "    .dataframe tbody tr th {\n",
       "        vertical-align: top;\n",
       "    }\n",
       "\n",
       "    .dataframe thead th {\n",
       "        text-align: right;\n",
       "    }\n",
       "</style>\n",
       "<table border=\"1\" class=\"dataframe\">\n",
       "  <thead>\n",
       "    <tr style=\"text-align: right;\">\n",
       "      <th></th>\n",
       "      <th>pixel0</th>\n",
       "      <th>pixel1</th>\n",
       "      <th>pixel2</th>\n",
       "      <th>pixel3</th>\n",
       "      <th>pixel4</th>\n",
       "      <th>pixel5</th>\n",
       "      <th>pixel6</th>\n",
       "      <th>pixel7</th>\n",
       "      <th>pixel8</th>\n",
       "      <th>pixel9</th>\n",
       "      <th>...</th>\n",
       "      <th>pixel774</th>\n",
       "      <th>pixel775</th>\n",
       "      <th>pixel776</th>\n",
       "      <th>pixel777</th>\n",
       "      <th>pixel778</th>\n",
       "      <th>pixel779</th>\n",
       "      <th>pixel780</th>\n",
       "      <th>pixel781</th>\n",
       "      <th>pixel782</th>\n",
       "      <th>pixel783</th>\n",
       "    </tr>\n",
       "  </thead>\n",
       "  <tbody>\n",
       "    <tr>\n",
       "      <th>0</th>\n",
       "      <td>0</td>\n",
       "      <td>0</td>\n",
       "      <td>0</td>\n",
       "      <td>0</td>\n",
       "      <td>0</td>\n",
       "      <td>0</td>\n",
       "      <td>0</td>\n",
       "      <td>0</td>\n",
       "      <td>0</td>\n",
       "      <td>0</td>\n",
       "      <td>...</td>\n",
       "      <td>0</td>\n",
       "      <td>0</td>\n",
       "      <td>0</td>\n",
       "      <td>0</td>\n",
       "      <td>0</td>\n",
       "      <td>0</td>\n",
       "      <td>0</td>\n",
       "      <td>0</td>\n",
       "      <td>0</td>\n",
       "      <td>0</td>\n",
       "    </tr>\n",
       "    <tr>\n",
       "      <th>1</th>\n",
       "      <td>0</td>\n",
       "      <td>0</td>\n",
       "      <td>0</td>\n",
       "      <td>0</td>\n",
       "      <td>0</td>\n",
       "      <td>0</td>\n",
       "      <td>0</td>\n",
       "      <td>0</td>\n",
       "      <td>0</td>\n",
       "      <td>0</td>\n",
       "      <td>...</td>\n",
       "      <td>0</td>\n",
       "      <td>0</td>\n",
       "      <td>0</td>\n",
       "      <td>0</td>\n",
       "      <td>0</td>\n",
       "      <td>0</td>\n",
       "      <td>0</td>\n",
       "      <td>0</td>\n",
       "      <td>0</td>\n",
       "      <td>0</td>\n",
       "    </tr>\n",
       "    <tr>\n",
       "      <th>2</th>\n",
       "      <td>0</td>\n",
       "      <td>0</td>\n",
       "      <td>0</td>\n",
       "      <td>0</td>\n",
       "      <td>0</td>\n",
       "      <td>0</td>\n",
       "      <td>0</td>\n",
       "      <td>0</td>\n",
       "      <td>0</td>\n",
       "      <td>0</td>\n",
       "      <td>...</td>\n",
       "      <td>0</td>\n",
       "      <td>0</td>\n",
       "      <td>0</td>\n",
       "      <td>0</td>\n",
       "      <td>0</td>\n",
       "      <td>0</td>\n",
       "      <td>0</td>\n",
       "      <td>0</td>\n",
       "      <td>0</td>\n",
       "      <td>0</td>\n",
       "    </tr>\n",
       "    <tr>\n",
       "      <th>3</th>\n",
       "      <td>0</td>\n",
       "      <td>0</td>\n",
       "      <td>0</td>\n",
       "      <td>0</td>\n",
       "      <td>0</td>\n",
       "      <td>0</td>\n",
       "      <td>0</td>\n",
       "      <td>0</td>\n",
       "      <td>0</td>\n",
       "      <td>0</td>\n",
       "      <td>...</td>\n",
       "      <td>0</td>\n",
       "      <td>0</td>\n",
       "      <td>0</td>\n",
       "      <td>0</td>\n",
       "      <td>0</td>\n",
       "      <td>0</td>\n",
       "      <td>0</td>\n",
       "      <td>0</td>\n",
       "      <td>0</td>\n",
       "      <td>0</td>\n",
       "    </tr>\n",
       "    <tr>\n",
       "      <th>4</th>\n",
       "      <td>0</td>\n",
       "      <td>0</td>\n",
       "      <td>0</td>\n",
       "      <td>0</td>\n",
       "      <td>0</td>\n",
       "      <td>0</td>\n",
       "      <td>0</td>\n",
       "      <td>0</td>\n",
       "      <td>0</td>\n",
       "      <td>0</td>\n",
       "      <td>...</td>\n",
       "      <td>0</td>\n",
       "      <td>0</td>\n",
       "      <td>0</td>\n",
       "      <td>0</td>\n",
       "      <td>0</td>\n",
       "      <td>0</td>\n",
       "      <td>0</td>\n",
       "      <td>0</td>\n",
       "      <td>0</td>\n",
       "      <td>0</td>\n",
       "    </tr>\n",
       "  </tbody>\n",
       "</table>\n",
       "<p>5 rows × 784 columns</p>\n",
       "</div>"
      ],
      "text/plain": [
       "   pixel0  pixel1  pixel2  pixel3  pixel4  pixel5  pixel6  pixel7  pixel8  \\\n",
       "0       0       0       0       0       0       0       0       0       0   \n",
       "1       0       0       0       0       0       0       0       0       0   \n",
       "2       0       0       0       0       0       0       0       0       0   \n",
       "3       0       0       0       0       0       0       0       0       0   \n",
       "4       0       0       0       0       0       0       0       0       0   \n",
       "\n",
       "   pixel9  ...  pixel774  pixel775  pixel776  pixel777  pixel778  pixel779  \\\n",
       "0       0  ...         0         0         0         0         0         0   \n",
       "1       0  ...         0         0         0         0         0         0   \n",
       "2       0  ...         0         0         0         0         0         0   \n",
       "3       0  ...         0         0         0         0         0         0   \n",
       "4       0  ...         0         0         0         0         0         0   \n",
       "\n",
       "   pixel780  pixel781  pixel782  pixel783  \n",
       "0         0         0         0         0  \n",
       "1         0         0         0         0  \n",
       "2         0         0         0         0  \n",
       "3         0         0         0         0  \n",
       "4         0         0         0         0  \n",
       "\n",
       "[5 rows x 784 columns]"
      ]
     },
     "metadata": {},
     "output_type": "display_data"
    },
    {
     "name": "stdout",
     "output_type": "stream",
     "text": [
      "test shape: (28000, 784)\n"
     ]
    }
   ],
   "source": [
    "# Load test data\n",
    "test = pd.read_csv(\"/kaggle/input/digit-recognizer/test.csv\")\n",
    "display(test.head())\n",
    "print(f\"test shape: {test.shape}\")"
   ]
  },
  {
   "cell_type": "markdown",
   "id": "7213c461",
   "metadata": {
    "papermill": {
     "duration": 0.010304,
     "end_time": "2023-03-25T00:00:26.122396",
     "exception": false,
     "start_time": "2023-03-25T00:00:26.112092",
     "status": "completed"
    },
    "tags": []
   },
   "source": [
    "Get target:"
   ]
  },
  {
   "cell_type": "code",
   "execution_count": 5,
   "id": "a1ba5823",
   "metadata": {
    "execution": {
     "iopub.execute_input": "2023-03-25T00:00:26.143796Z",
     "iopub.status.busy": "2023-03-25T00:00:26.143485Z",
     "iopub.status.idle": "2023-03-25T00:00:26.229192Z",
     "shell.execute_reply": "2023-03-25T00:00:26.227975Z"
    },
    "papermill": {
     "duration": 0.099001,
     "end_time": "2023-03-25T00:00:26.231677",
     "exception": false,
     "start_time": "2023-03-25T00:00:26.132676",
     "status": "completed"
    },
    "tags": []
   },
   "outputs": [],
   "source": [
    "# Put labels into y_train variable\n",
    "y_train = train[\"label\"]\n",
    "\n",
    "# Drop \"label\" column\n",
    "X_train = train.drop(labels = [\"label\"],axis = 1) "
   ]
  },
  {
   "cell_type": "markdown",
   "id": "7ed1e3df",
   "metadata": {
    "papermill": {
     "duration": 0.010098,
     "end_time": "2023-03-25T00:00:26.252014",
     "exception": false,
     "start_time": "2023-03-25T00:00:26.241916",
     "status": "completed"
    },
    "tags": []
   },
   "source": [
    "Plot some samples:"
   ]
  },
  {
   "cell_type": "code",
   "execution_count": 6,
   "id": "e998d314",
   "metadata": {
    "execution": {
     "iopub.execute_input": "2023-03-25T00:00:26.273844Z",
     "iopub.status.busy": "2023-03-25T00:00:26.273521Z",
     "iopub.status.idle": "2023-03-25T00:00:26.279558Z",
     "shell.execute_reply": "2023-03-25T00:00:26.278473Z"
    },
    "papermill": {
     "duration": 0.02001,
     "end_time": "2023-03-25T00:00:26.281923",
     "exception": false,
     "start_time": "2023-03-25T00:00:26.261913",
     "status": "completed"
    },
    "tags": []
   },
   "outputs": [],
   "source": [
    "def plot_img(index):\n",
    "    # Reshape vector to 28x28 matrix\n",
    "    img = X_train.iloc[index].to_numpy()\n",
    "    img = img.reshape((28,28))\n",
    "\n",
    "    # Create figure\n",
    "    fig = px.imshow(img, color_continuous_scale='gray')\n",
    "\n",
    "    # Set Title and x/y axis labels\n",
    "    fig.update_layout(\n",
    "        showlegend = False,\n",
    "        #coloraxis_showscale=False,\n",
    "        title={\n",
    "            'text': f\"Visualization of Image No.{index}\",\n",
    "            'y':0.95,\n",
    "            'x':0.5\n",
    "        }\n",
    "    )\n",
    "    # Display\n",
    "    #fig.show() # for Kaggle version\n",
    "    fig.show(\"png\") # for GitHub version"
   ]
  },
  {
   "cell_type": "code",
   "execution_count": 7,
   "id": "736a8122",
   "metadata": {
    "execution": {
     "iopub.execute_input": "2023-03-25T00:00:26.303007Z",
     "iopub.status.busy": "2023-03-25T00:00:26.302736Z",
     "iopub.status.idle": "2023-03-25T00:00:29.043242Z",
     "shell.execute_reply": "2023-03-25T00:00:29.042072Z"
    },
    "papermill": {
     "duration": 2.754373,
     "end_time": "2023-03-25T00:00:29.046344",
     "exception": false,
     "start_time": "2023-03-25T00:00:26.291971",
     "status": "completed"
    },
    "tags": []
   },
   "outputs": [
    {
     "data": {
      "image/png": "[encoded data removed]"
     },
     "metadata": {},
     "output_type": "display_data"
    },
    {
     "data": {
      "image/png": "[encoded data removed]"
     },
     "metadata": {},
     "output_type": "display_data"
    },
    {
     "data": {
      "image/png": "[encoded data removed]"
     },
     "metadata": {},
     "output_type": "display_data"
    }
   ],
   "source": [
    "# Check some random values from train data\n",
    "for index in (3, 5, 700):\n",
    "    plot_img(index)"
   ]
  },
  {
   "cell_type": "markdown",
   "id": "7f111ca5",
   "metadata": {
    "papermill": {
     "duration": 0.011573,
     "end_time": "2023-03-25T00:00:29.070169",
     "exception": false,
     "start_time": "2023-03-25T00:00:29.058596",
     "status": "completed"
    },
    "tags": []
   },
   "source": [
    "Check target distribution:"
   ]
  },
  {
   "cell_type": "code",
   "execution_count": 8,
   "id": "a3e4d60a",
   "metadata": {
    "execution": {
     "iopub.execute_input": "2023-03-25T00:00:29.094620Z",
     "iopub.status.busy": "2023-03-25T00:00:29.094268Z",
     "iopub.status.idle": "2023-03-25T00:00:29.388895Z",
     "shell.execute_reply": "2023-03-25T00:00:29.387763Z"
    },
    "papermill": {
     "duration": 0.310431,
     "end_time": "2023-03-25T00:00:29.391859",
     "exception": false,
     "start_time": "2023-03-25T00:00:29.081428",
     "status": "completed"
    },
    "tags": []
   },
   "outputs": [
    {
     "data": {
      "image/svg+xml": [
       "<svg class=\"main-svg\" xmlns=\"http://www.w3.org/2000/svg\" xmlns:xlink=\"http://www.w3.org/1999/xlink\" width=\"700\" height=\"500\" style=\"\" viewBox=\"0 0 700 500\"><rect x=\"0\" y=\"0\" width=\"700\" height=\"500\" style=\"fill: rgb(255, 255, 255); fill-opacity: 1;\"/><defs id=\"defs-ebd172\"><g class=\"clips\"><clipPath id=\"clipebd172xyplot\" class=\"plotclip\"><rect width=\"537\" height=\"360\"/></clipPath><clipPath class=\"axesclip\" id=\"clipebd172x\"><rect x=\"83\" y=\"0\" width=\"537\" height=\"500\"/></clipPath><clipPath class=\"axesclip\" id=\"clipebd172y\"><rect x=\"0\" y=\"60\" width=\"700\" height=\"360\"/></clipPath><clipPath class=\"axesclip\" id=\"clipebd172xy\"><rect x=\"83\" y=\"60\" width=\"537\" height=\"360\"/></clipPath></g><g class=\"gradients\"/><g class=\"patterns\"/></defs><g class=\"bglayer\"/><g class=\"layer-below\"><g class=\"imagelayer\"/><g class=\"shapelayer\"/></g><g class=\"cartesianlayer\"><g class=\"subplot xy\"><g class=\"layer-subplot\"><g class=\"shapelayer\"/><g class=\"imagelayer\"/></g><g class=\"minor-gridlayer\"><g class=\"x\"/><g class=\"y\"/></g><g class=\"gridlayer\"><g class=\"x\"/><g class=\"y\"/></g><g class=\"zerolinelayer\"/><path class=\"xlines-below\"/><path class=\"ylines-below\"/><g class=\"overlines-below\"/><g class=\"xaxislayer-below\"/><g class=\"yaxislayer-below\"/><g class=\"overaxes-below\"/><g class=\"plot\" transform=\"translate(83,60)\" clip-path=\"url(#clipebd172xyplot)\"><g class=\"barlayer mlayer\"><g class=\"trace bars\" style=\"opacity: 1;\"><g class=\"points\"><g class=\"point\"><path d=\"M59.07,360V18H102.03V360Z\" style=\"vector-effect: non-scaling-stroke; opacity: 1; stroke-width: 0.5px; fill: rgb(128, 128, 128); fill-opacity: 1; stroke: rgb(255, 255, 255); stroke-opacity: 1;\"/></g><g class=\"point\"><path d=\"M381.27,360V38.66H424.23V360Z\" style=\"vector-effect: non-scaling-stroke; opacity: 1; stroke-width: 0.5px; fill: rgb(128, 128, 128); fill-opacity: 1; stroke: rgb(255, 255, 255); stroke-opacity: 1;\"/></g><g class=\"point\"><path d=\"M166.47,360V42.31H209.43V360Z\" style=\"vector-effect: non-scaling-stroke; opacity: 1; stroke-width: 0.5px; fill: rgb(128, 128, 128); fill-opacity: 1; stroke: rgb(255, 255, 255); stroke-opacity: 1;\"/></g><g class=\"point\"><path d=\"M488.67,360V54.22H531.63V360Z\" style=\"vector-effect: non-scaling-stroke; opacity: 1; stroke-width: 0.5px; fill: rgb(128, 128, 128); fill-opacity: 1; stroke: rgb(255, 255, 255); stroke-opacity: 1;\"/></g><g class=\"point\"><path d=\"M112.77,360V55.02H155.73V360Z\" style=\"vector-effect: non-scaling-stroke; opacity: 1; stroke-width: 0.5px; fill: rgb(128, 128, 128); fill-opacity: 1; stroke: rgb(255, 255, 255); stroke-opacity: 1;\"/></g><g class=\"point\"><path d=\"M327.57,360V57.94H370.53V360Z\" style=\"vector-effect: non-scaling-stroke; opacity: 1; stroke-width: 0.5px; fill: rgb(128, 128, 128); fill-opacity: 1; stroke: rgb(255, 255, 255); stroke-opacity: 1;\"/></g><g class=\"point\"><path d=\"M5.37,360V58.3H48.33V360Z\" style=\"vector-effect: non-scaling-stroke; opacity: 1; stroke-width: 0.5px; fill: rgb(128, 128, 128); fill-opacity: 1; stroke: rgb(255, 255, 255); stroke-opacity: 1;\"/></g><g class=\"point\"><path d=\"M220.17,360V62.68H263.13V360Z\" style=\"vector-effect: non-scaling-stroke; opacity: 1; stroke-width: 0.5px; fill: rgb(128, 128, 128); fill-opacity: 1; stroke: rgb(255, 255, 255); stroke-opacity: 1;\"/></g><g class=\"point\"><path d=\"M434.97,360V63.34H477.93V360Z\" style=\"vector-effect: non-scaling-stroke; opacity: 1; stroke-width: 0.5px; fill: rgb(128, 128, 128); fill-opacity: 1; stroke: rgb(255, 255, 255); stroke-opacity: 1;\"/></g><g class=\"point\"><path d=\"M273.87,360V82.91H316.83V360Z\" style=\"vector-effect: non-scaling-stroke; opacity: 1; stroke-width: 0.5px; fill: rgb(128, 128, 128); fill-opacity: 1; stroke: rgb(255, 255, 255); stroke-opacity: 1;\"/></g></g></g></g></g><g class=\"overplot\"/><path class=\"xlines-above crisp\" d=\"M82,420.5H620\" style=\"fill: none; stroke-width: 1px; stroke: rgb(36, 36, 36); stroke-opacity: 1;\"/><path class=\"ylines-above crisp\" d=\"M82.5,60V420\" style=\"fill: none; stroke-width: 1px; stroke: rgb(36, 36, 36); stroke-opacity: 1;\"/><g class=\"overlines-above\"/><g class=\"xaxislayer-above\"><path class=\"xtick ticks crisp\" d=\"M0,421v5\" transform=\"translate(109.85,0)\" style=\"stroke: rgb(68, 68, 68); stroke-opacity: 1; stroke-width: 1px;\"/><path class=\"xtick ticks crisp\" d=\"M0,421v5\" transform=\"translate(163.55,0)\" style=\"stroke: rgb(68, 68, 68); stroke-opacity: 1; stroke-width: 1px;\"/><path class=\"xtick ticks crisp\" d=\"M0,421v5\" transform=\"translate(217.25,0)\" style=\"stroke: rgb(68, 68, 68); stroke-opacity: 1; stroke-width: 1px;\"/><path class=\"xtick ticks crisp\" d=\"M0,421v5\" transform=\"translate(270.95,0)\" style=\"stroke: rgb(68, 68, 68); stroke-opacity: 1; stroke-width: 1px;\"/><path class=\"xtick ticks crisp\" d=\"M0,421v5\" transform=\"translate(324.65,0)\" style=\"stroke: rgb(68, 68, 68); stroke-opacity: 1; stroke-width: 1px;\"/><path class=\"xtick ticks crisp\" d=\"M0,421v5\" transform=\"translate(378.35,0)\" style=\"stroke: rgb(68, 68, 68); stroke-opacity: 1; stroke-width: 1px;\"/><path class=\"xtick ticks crisp\" d=\"M0,421v5\" transform=\"translate(432.05,0)\" style=\"stroke: rgb(68, 68, 68); stroke-opacity: 1; stroke-width: 1px;\"/><path class=\"xtick ticks crisp\" d=\"M0,421v5\" transform=\"translate(485.75,0)\" style=\"stroke: rgb(68, 68, 68); stroke-opacity: 1; stroke-width: 1px;\"/><path class=\"xtick ticks crisp\" d=\"M0,421v5\" transform=\"translate(539.45,0)\" style=\"stroke: rgb(68, 68, 68); stroke-opacity: 1; stroke-width: 1px;\"/><path class=\"xtick ticks crisp\" d=\"M0,421v5\" transform=\"translate(593.15,0)\" style=\"stroke: rgb(68, 68, 68); stroke-opacity: 1; stroke-width: 1px;\"/><g class=\"xtick\"><text text-anchor=\"middle\" x=\"0\" y=\"442.8\" transform=\"translate(109.85,0)\" style=\"font-family: 'Open Sans', verdana, arial, sans-serif; font-size: 14px; fill: rgb(36, 36, 36); fill-opacity: 1; white-space: pre; opacity: 1;\">0</text></g><g class=\"xtick\"><text text-anchor=\"middle\" x=\"0\" y=\"442.8\" style=\"font-family: 'Open Sans', verdana, arial, sans-serif; font-size: 14px; fill: rgb(36, 36, 36); fill-opacity: 1; white-space: pre; opacity: 1;\" transform=\"translate(163.55,0)\">1</text></g><g class=\"xtick\"><text text-anchor=\"middle\" x=\"0\" y=\"442.8\" style=\"font-family: 'Open Sans', verdana, arial, sans-serif; font-size: 14px; fill: rgb(36, 36, 36); fill-opacity: 1; white-space: pre; opacity: 1;\" transform=\"translate(217.25,0)\">2</text></g><g class=\"xtick\"><text text-anchor=\"middle\" x=\"0\" y=\"442.8\" style=\"font-family: 'Open Sans', verdana, arial, sans-serif; font-size: 14px; fill: rgb(36, 36, 36); fill-opacity: 1; white-space: pre; opacity: 1;\" transform=\"translate(270.95,0)\">3</text></g><g class=\"xtick\"><text text-anchor=\"middle\" x=\"0\" y=\"442.8\" style=\"font-family: 'Open Sans', verdana, arial, sans-serif; font-size: 14px; fill: rgb(36, 36, 36); fill-opacity: 1; white-space: pre; opacity: 1;\" transform=\"translate(324.65,0)\">4</text></g><g class=\"xtick\"><text text-anchor=\"middle\" x=\"0\" y=\"442.8\" style=\"font-family: 'Open Sans', verdana, arial, sans-serif; font-size: 14px; fill: rgb(36, 36, 36); fill-opacity: 1; white-space: pre; opacity: 1;\" transform=\"translate(378.35,0)\">5</text></g><g class=\"xtick\"><text text-anchor=\"middle\" x=\"0\" y=\"442.8\" style=\"font-family: 'Open Sans', verdana, arial, sans-serif; font-size: 14px; fill: rgb(36, 36, 36); fill-opacity: 1; white-space: pre; opacity: 1;\" transform=\"translate(432.05,0)\">6</text></g><g class=\"xtick\"><text text-anchor=\"middle\" x=\"0\" y=\"442.8\" style=\"font-family: 'Open Sans', verdana, arial, sans-serif; font-size: 14px; fill: rgb(36, 36, 36); fill-opacity: 1; white-space: pre; opacity: 1;\" transform=\"translate(485.75,0)\">7</text></g><g class=\"xtick\"><text text-anchor=\"middle\" x=\"0\" y=\"442.8\" style=\"font-family: 'Open Sans', verdana, arial, sans-serif; font-size: 14px; fill: rgb(36, 36, 36); fill-opacity: 1; white-space: pre; opacity: 1;\" transform=\"translate(539.45,0)\">8</text></g><g class=\"xtick\"><text text-anchor=\"middle\" x=\"0\" y=\"442.8\" style=\"font-family: 'Open Sans', verdana, arial, sans-serif; font-size: 14px; fill: rgb(36, 36, 36); fill-opacity: 1; white-space: pre; opacity: 1;\" transform=\"translate(593.15,0)\">9</text></g></g><g class=\"yaxislayer-above\"><path class=\"ytick ticks crisp\" d=\"M82,0h-5\" transform=\"translate(0,420)\" style=\"stroke: rgb(68, 68, 68); stroke-opacity: 1; stroke-width: 1px;\"/><path class=\"ytick ticks crisp\" d=\"M82,0h-5\" transform=\"translate(0,383.49)\" style=\"stroke: rgb(68, 68, 68); stroke-opacity: 1; stroke-width: 1px;\"/><path class=\"ytick ticks crisp\" d=\"M82,0h-5\" transform=\"translate(0,346.99)\" style=\"stroke: rgb(68, 68, 68); stroke-opacity: 1; stroke-width: 1px;\"/><path class=\"ytick ticks crisp\" d=\"M82,0h-5\" transform=\"translate(0,310.48)\" style=\"stroke: rgb(68, 68, 68); stroke-opacity: 1; stroke-width: 1px;\"/><path class=\"ytick ticks crisp\" d=\"M82,0h-5\" transform=\"translate(0,273.97)\" style=\"stroke: rgb(68, 68, 68); stroke-opacity: 1; stroke-width: 1px;\"/><path class=\"ytick ticks crisp\" d=\"M82,0h-5\" transform=\"translate(0,237.46)\" style=\"stroke: rgb(68, 68, 68); stroke-opacity: 1; stroke-width: 1px;\"/><path class=\"ytick ticks crisp\" d=\"M82,0h-5\" transform=\"translate(0,200.96)\" style=\"stroke: rgb(68, 68, 68); stroke-opacity: 1; stroke-width: 1px;\"/><path class=\"ytick ticks crisp\" d=\"M82,0h-5\" transform=\"translate(0,164.45)\" style=\"stroke: rgb(68, 68, 68); stroke-opacity: 1; stroke-width: 1px;\"/><path class=\"ytick ticks crisp\" d=\"M82,0h-5\" transform=\"translate(0,127.94)\" style=\"stroke: rgb(68, 68, 68); stroke-opacity: 1; stroke-width: 1px;\"/><path class=\"ytick ticks crisp\" d=\"M82,0h-5\" transform=\"translate(0,91.43)\" style=\"stroke: rgb(68, 68, 68); stroke-opacity: 1; stroke-width: 1px;\"/><g class=\"ytick\"><text text-anchor=\"end\" x=\"74.2\" y=\"4.8999999999999995\" transform=\"translate(0,420)\" style=\"font-family: 'Open Sans', verdana, arial, sans-serif; font-size: 14px; fill: rgb(36, 36, 36); fill-opacity: 1; white-space: pre; opacity: 1;\">0</text></g><g class=\"ytick\"><text text-anchor=\"end\" x=\"74.2\" y=\"4.8999999999999995\" style=\"font-family: 'Open Sans', verdana, arial, sans-serif; font-size: 14px; fill: rgb(36, 36, 36); fill-opacity: 1; white-space: pre; opacity: 1;\" transform=\"translate(0,383.49)\">500</text></g><g class=\"ytick\"><text text-anchor=\"end\" x=\"74.2\" y=\"4.8999999999999995\" style=\"font-family: 'Open Sans', verdana, arial, sans-serif; font-size: 14px; fill: rgb(36, 36, 36); fill-opacity: 1; white-space: pre; opacity: 1;\" transform=\"translate(0,346.99)\">1000</text></g><g class=\"ytick\"><text text-anchor=\"end\" x=\"74.2\" y=\"4.8999999999999995\" style=\"font-family: 'Open Sans', verdana, arial, sans-serif; font-size: 14px; fill: rgb(36, 36, 36); fill-opacity: 1; white-space: pre; opacity: 1;\" transform=\"translate(0,310.48)\">1500</text></g><g class=\"ytick\"><text text-anchor=\"end\" x=\"74.2\" y=\"4.8999999999999995\" style=\"font-family: 'Open Sans', verdana, arial, sans-serif; font-size: 14px; fill: rgb(36, 36, 36); fill-opacity: 1; white-space: pre; opacity: 1;\" transform=\"translate(0,273.97)\">2000</text></g><g class=\"ytick\"><text text-anchor=\"end\" x=\"74.2\" y=\"4.8999999999999995\" style=\"font-family: 'Open Sans', verdana, arial, sans-serif; font-size: 14px; fill: rgb(36, 36, 36); fill-opacity: 1; white-space: pre; opacity: 1;\" transform=\"translate(0,237.46)\">2500</text></g><g class=\"ytick\"><text text-anchor=\"end\" x=\"74.2\" y=\"4.8999999999999995\" style=\"font-family: 'Open Sans', verdana, arial, sans-serif; font-size: 14px; fill: rgb(36, 36, 36); fill-opacity: 1; white-space: pre; opacity: 1;\" transform=\"translate(0,200.96)\">3000</text></g><g class=\"ytick\"><text text-anchor=\"end\" x=\"74.2\" y=\"4.8999999999999995\" style=\"font-family: 'Open Sans', verdana, arial, sans-serif; font-size: 14px; fill: rgb(36, 36, 36); fill-opacity: 1; white-space: pre; opacity: 1;\" transform=\"translate(0,164.45)\">3500</text></g><g class=\"ytick\"><text text-anchor=\"end\" x=\"74.2\" y=\"4.8999999999999995\" style=\"font-family: 'Open Sans', verdana, arial, sans-serif; font-size: 14px; fill: rgb(36, 36, 36); fill-opacity: 1; white-space: pre; opacity: 1;\" transform=\"translate(0,127.94)\">4000</text></g><g class=\"ytick\"><text text-anchor=\"end\" x=\"74.2\" y=\"4.8999999999999995\" style=\"font-family: 'Open Sans', verdana, arial, sans-serif; font-size: 14px; fill: rgb(36, 36, 36); fill-opacity: 1; white-space: pre; opacity: 1;\" transform=\"translate(0,91.43)\">4500</text></g></g><g class=\"overaxes-above\"/></g></g><g class=\"polarlayer\"/><g class=\"smithlayer\"/><g class=\"ternarylayer\"/><g class=\"geolayer\"/><g class=\"funnelarealayer\"/><g class=\"pielayer\"/><g class=\"iciclelayer\"/><g class=\"treemaplayer\"/><g class=\"sunburstlayer\"/><g class=\"glimages\"/><defs id=\"topdefs-ebd172\"><g class=\"clips\"/></defs><g class=\"layer-above\"><g class=\"imagelayer\"/><g class=\"shapelayer\"/></g><g class=\"infolayer\"><g class=\"g-gtitle\"><text class=\"gtitle\" x=\"350\" y=\"25\" text-anchor=\"middle\" dy=\"0.7em\" style=\"font-family: 'Open Sans', verdana, arial, sans-serif; font-size: 20px; fill: rgb(36, 36, 36); opacity: 1; font-weight: normal; white-space: pre;\">Target Distribution</text></g><g class=\"g-xtitle\"><text class=\"xtitle\" x=\"351.5\" y=\"472.2125\" text-anchor=\"middle\" style=\"font-family: 'Open Sans', verdana, arial, sans-serif; font-size: 17px; fill: rgb(36, 36, 36); opacity: 1; font-weight: normal; white-space: pre;\">Digit</text></g><g class=\"g-ytitle\" transform=\"translate(3.837890625,0)\"><text class=\"ytitle\" transform=\"rotate(-90,12.162499999999994,240)\" x=\"12.162499999999994\" y=\"240\" text-anchor=\"middle\" style=\"font-family: 'Open Sans', verdana, arial, sans-serif; font-size: 17px; fill: rgb(36, 36, 36); opacity: 1; font-weight: normal; white-space: pre;\">Frequency</text></g></g></svg>"
      ]
     },
     "metadata": {},
     "output_type": "display_data"
    }
   ],
   "source": [
    "# Create figure\n",
    "fig = px.bar(y_train.value_counts(),\n",
    "             template='simple_white',\n",
    "             color_discrete_sequence = ['grey']\n",
    "            )\n",
    "\n",
    "# Set Title and x/y axis labels\n",
    "fig.update_layout(\n",
    "    xaxis = dict(\n",
    "        tickvals = [0, 1, 2, 3, 4, 5, 6, 7, 8, 9]\n",
    "    ),\n",
    "    xaxis_title=\"Digit\",\n",
    "    yaxis_title=\"Frequency\",\n",
    "    showlegend = False,\n",
    "    font = dict(\n",
    "            size = 14\n",
    "            ),     \n",
    "    title={\n",
    "        'text': \"Target Distribution\",\n",
    "        'y':0.95,\n",
    "        'x':0.5\n",
    "        }\n",
    "    )\n",
    "\n",
    "# Display\n",
    "#fig.show() # for Kaggle version\n",
    "fig.show(\"svg\") # for GitHub version"
   ]
  },
  {
   "cell_type": "markdown",
   "id": "8de60b4f",
   "metadata": {
    "papermill": {
     "duration": 0.011702,
     "end_time": "2023-03-25T00:00:29.422894",
     "exception": false,
     "start_time": "2023-03-25T00:00:29.411192",
     "status": "completed"
    },
    "tags": []
   },
   "source": [
    "# Data Preparation"
   ]
  },
  {
   "cell_type": "markdown",
   "id": "fd2acbb6",
   "metadata": {
    "papermill": {
     "duration": 0.011519,
     "end_time": "2023-03-25T00:00:29.446335",
     "exception": false,
     "start_time": "2023-03-25T00:00:29.434816",
     "status": "completed"
    },
    "tags": []
   },
   "source": [
    "## Normalization"
   ]
  },
  {
   "cell_type": "markdown",
   "id": "6a39d1d9",
   "metadata": {
    "papermill": {
     "duration": 0.0115,
     "end_time": "2023-03-25T00:00:29.469632",
     "exception": false,
     "start_time": "2023-03-25T00:00:29.458132",
     "status": "completed"
    },
    "tags": []
   },
   "source": [
    "Normalization:\n",
    "\n",
    "* In order to reduce the impact of illumination differences on image analysis, we perform grayscale normalization.\n",
    "* By normalizing the grayscale values of the images, we can ensure that the CNN is able to more accurately analyze and classify the images.\n",
    "* Normalization can also help to improve the consistency of the image data, making it easier to train the model and achieve better performance."
   ]
  },
  {
   "cell_type": "markdown",
   "id": "9ba8b98c",
   "metadata": {
    "papermill": {
     "duration": 0.011455,
     "end_time": "2023-03-25T00:00:29.492534",
     "exception": false,
     "start_time": "2023-03-25T00:00:29.481079",
     "status": "completed"
    },
    "tags": []
   },
   "source": [
    "CNN speed improvement through normalization:\n",
    "\n",
    "* In addition to improving the accuracy of the CNN, normalization can also have a positive impact on the speed of the model.\n",
    "* By reducing the variation in grayscale values across different images, the CNN can process the data more quickly and efficiently."
   ]
  },
  {
   "cell_type": "code",
   "execution_count": 9,
   "id": "636960e3",
   "metadata": {
    "execution": {
     "iopub.execute_input": "2023-03-25T00:00:29.517417Z",
     "iopub.status.busy": "2023-03-25T00:00:29.517066Z",
     "iopub.status.idle": "2023-03-25T00:00:29.713157Z",
     "shell.execute_reply": "2023-03-25T00:00:29.711634Z"
    },
    "papermill": {
     "duration": 0.211493,
     "end_time": "2023-03-25T00:00:29.715613",
     "exception": false,
     "start_time": "2023-03-25T00:00:29.504120",
     "status": "completed"
    },
    "tags": []
   },
   "outputs": [
    {
     "name": "stdout",
     "output_type": "stream",
     "text": [
      "X_train shape: (42000, 784)\n",
      "test shape: (28000, 784)\n"
     ]
    }
   ],
   "source": [
    "# Normalize the data\n",
    "X_train = X_train / 255.0\n",
    "test = test / 255.0\n",
    "\n",
    "print(f\"X_train shape: {X_train.shape}\")\n",
    "print(f\"test shape: {test.shape}\")"
   ]
  },
  {
   "cell_type": "markdown",
   "id": "c773d656",
   "metadata": {
    "papermill": {
     "duration": 0.011679,
     "end_time": "2023-03-25T00:00:29.739237",
     "exception": false,
     "start_time": "2023-03-25T00:00:29.727558",
     "status": "completed"
    },
    "tags": []
   },
   "source": [
    "## Reshape"
   ]
  },
  {
   "cell_type": "markdown",
   "id": "7d5d9f61",
   "metadata": {
    "papermill": {
     "duration": 0.01149,
     "end_time": "2023-03-25T00:00:29.762558",
     "exception": false,
     "start_time": "2023-03-25T00:00:29.751068",
     "status": "completed"
    },
    "tags": []
   },
   "source": [
    "Reshape:\n",
    "\n",
    "* In order to prepare our image data for use with a neural network, we need to reshape it into 3D matrices.\n",
    "* Our original images are 28x28 pixels in size, so we reshape them into 28x28x1 matrices to add an extra dimension for channels.\n",
    "* This is necessary because Keras, the deep learning library we are using, expects image data to be represented as 3D tensors with dimensions (width, height, channels).\n",
    "* Since our images are grayscale, we only need one channel to represent them, hence the \"1\" in the last dimension of the reshaped matrix."
   ]
  },
  {
   "cell_type": "code",
   "execution_count": 10,
   "id": "d4e5df95",
   "metadata": {
    "execution": {
     "iopub.execute_input": "2023-03-25T00:00:29.787796Z",
     "iopub.status.busy": "2023-03-25T00:00:29.787450Z",
     "iopub.status.idle": "2023-03-25T00:00:29.793982Z",
     "shell.execute_reply": "2023-03-25T00:00:29.792966Z"
    },
    "papermill": {
     "duration": 0.021712,
     "end_time": "2023-03-25T00:00:29.796432",
     "exception": false,
     "start_time": "2023-03-25T00:00:29.774720",
     "status": "completed"
    },
    "tags": []
   },
   "outputs": [
    {
     "name": "stdout",
     "output_type": "stream",
     "text": [
      "X_train shape: (42000, 28, 28, 1)\n",
      "test shape: (28000, 28, 28, 1)\n"
     ]
    }
   ],
   "source": [
    "# Reshape\n",
    "X_train = X_train.values.reshape(X_train.shape[0], 28, 28, 1)\n",
    "test = test.values.reshape(test.shape[0], 28, 28, 1)\n",
    "\n",
    "print(f\"X_train shape: {X_train.shape}\")\n",
    "print(f\"test shape: {test.shape}\")"
   ]
  },
  {
   "cell_type": "markdown",
   "id": "48951f3f",
   "metadata": {
    "papermill": {
     "duration": 0.011672,
     "end_time": "2023-03-25T00:00:29.819601",
     "exception": false,
     "start_time": "2023-03-25T00:00:29.807929",
     "status": "completed"
    },
    "tags": []
   },
   "source": [
    "## Label Encoding"
   ]
  },
  {
   "cell_type": "markdown",
   "id": "438f73e4",
   "metadata": {
    "papermill": {
     "duration": 0.011414,
     "end_time": "2023-03-25T00:00:29.842766",
     "exception": false,
     "start_time": "2023-03-25T00:00:29.831352",
     "status": "completed"
    },
    "tags": []
   },
   "source": [
    "Label Encoding:\n",
    "\n",
    "* In order to use categorical labels in our neural network, we need to encode them as numerical values.\n",
    "* One common method for doing this is label encoding, where each unique label is assigned a unique integer value.\n",
    "* However, since these numerical labels have an inherent ordering (e.g. 4 is \"greater\" than 2), they may not be suitable for use in certain types of models.\n",
    "* To address this issue, we can use one-hot encoding to represent each label as a binary vector where only the corresponding label index is set to 1, and all other indices are set to 0."
   ]
  },
  {
   "cell_type": "code",
   "execution_count": 11,
   "id": "749aee58",
   "metadata": {
    "execution": {
     "iopub.execute_input": "2023-03-25T00:00:29.868562Z",
     "iopub.status.busy": "2023-03-25T00:00:29.867821Z",
     "iopub.status.idle": "2023-03-25T00:00:29.875007Z",
     "shell.execute_reply": "2023-03-25T00:00:29.874079Z"
    },
    "papermill": {
     "duration": 0.02234,
     "end_time": "2023-03-25T00:00:29.877073",
     "exception": false,
     "start_time": "2023-03-25T00:00:29.854733",
     "status": "completed"
    },
    "tags": []
   },
   "outputs": [],
   "source": [
    "# One-hot encoding\n",
    "y_train = to_categorical(y_train, num_classes = 10)"
   ]
  },
  {
   "cell_type": "markdown",
   "id": "2fee4a4d",
   "metadata": {
    "papermill": {
     "duration": 0.011491,
     "end_time": "2023-03-25T00:00:29.900239",
     "exception": false,
     "start_time": "2023-03-25T00:00:29.888748",
     "status": "completed"
    },
    "tags": []
   },
   "source": [
    "## Train Test Split"
   ]
  },
  {
   "cell_type": "markdown",
   "id": "10c69a60",
   "metadata": {
    "papermill": {
     "duration": 0.011381,
     "end_time": "2023-03-25T00:00:29.923637",
     "exception": false,
     "start_time": "2023-03-25T00:00:29.912256",
     "status": "completed"
    },
    "tags": []
   },
   "source": [
    "Train Test Split:\n",
    "\n",
    "* In order to evaluate the performance of our model and ensure that it can generalize well to new, unseen data, we need to split our dataset into separate training and testing sets.\n",
    "* This is typically done by randomly selecting a portion of the data to use for testing and setting aside the rest for training.\n",
    "* The size of the test and train sets can vary depending on the size of the dataset and other factors, but a common split is to use 80% of the data for training and 20% for testing."
   ]
  },
  {
   "cell_type": "code",
   "execution_count": 12,
   "id": "8461b183",
   "metadata": {
    "execution": {
     "iopub.execute_input": "2023-03-25T00:00:29.948364Z",
     "iopub.status.busy": "2023-03-25T00:00:29.948068Z",
     "iopub.status.idle": "2023-03-25T00:00:30.340353Z",
     "shell.execute_reply": "2023-03-25T00:00:30.338496Z"
    },
    "papermill": {
     "duration": 0.407737,
     "end_time": "2023-03-25T00:00:30.343248",
     "exception": false,
     "start_time": "2023-03-25T00:00:29.935511",
     "status": "completed"
    },
    "tags": []
   },
   "outputs": [
    {
     "name": "stdout",
     "output_type": "stream",
     "text": [
      "X_train shape: (33600, 28, 28, 1)\n",
      "y_train shape: (33600, 10)\n",
      "X_val shape: (8400, 28, 28, 1)\n",
      "y_val shape: (8400, 10)\n"
     ]
    }
   ],
   "source": [
    "X_train, X_val, y_train, y_val = train_test_split(X_train, y_train, test_size = 0.2, random_state=11)\n",
    "\n",
    "print(f\"X_train shape: {X_train.shape}\")\n",
    "print(f\"y_train shape: {y_train.shape}\")\n",
    "print(f\"X_val shape: {X_val.shape}\")\n",
    "print(f\"y_val shape: {y_val.shape}\")"
   ]
  },
  {
   "cell_type": "markdown",
   "id": "470906dd",
   "metadata": {
    "papermill": {
     "duration": 0.011849,
     "end_time": "2023-03-25T00:00:30.367905",
     "exception": false,
     "start_time": "2023-03-25T00:00:30.356056",
     "status": "completed"
    },
    "tags": []
   },
   "source": [
    "# Data Augmentation"
   ]
  },
  {
   "cell_type": "markdown",
   "id": "3f590bf8",
   "metadata": {
    "papermill": {
     "duration": 0.011698,
     "end_time": "2023-03-25T00:00:30.391471",
     "exception": false,
     "start_time": "2023-03-25T00:00:30.379773",
     "status": "completed"
    },
    "tags": []
   },
   "source": [
    "Data augmentation is a commonly used technique to artificially expand the training dataset and reduce overfitting. Some of the common data augmentation techniques used in image recognition tasks are:\n",
    "\n",
    "* Rotation: rotating the image by a certain degree to simulate variations in writing angles.\n",
    "* Translation: shifting the image vertically or horizontally to simulate variations in position.\n",
    "* Zooming: zooming in or out of the image to simulate variations in writing size.\n",
    "* Shearing: distorting the image by shearing along the x or y-axis to simulate variations in writing style.\n",
    "\n",
    "By applying these transformations randomly to the existing training images, we can create new training images that are similar to the original ones but have small variations, making the model more robust and less likely to overfit to the training data."
   ]
  },
  {
   "cell_type": "code",
   "execution_count": 13,
   "id": "f3a0743f",
   "metadata": {
    "execution": {
     "iopub.execute_input": "2023-03-25T00:00:30.416668Z",
     "iopub.status.busy": "2023-03-25T00:00:30.416045Z",
     "iopub.status.idle": "2023-03-25T00:00:30.501295Z",
     "shell.execute_reply": "2023-03-25T00:00:30.500261Z"
    },
    "papermill": {
     "duration": 0.100874,
     "end_time": "2023-03-25T00:00:30.503981",
     "exception": false,
     "start_time": "2023-03-25T00:00:30.403107",
     "status": "completed"
    },
    "tags": []
   },
   "outputs": [],
   "source": [
    "datagen = ImageDataGenerator(\n",
    "    rotation_range=10,  \n",
    "    zoom_range = 0.10,  \n",
    "    width_shift_range=0.1, \n",
    "    height_shift_range=0.1\n",
    ")\n",
    "\n",
    "datagen.fit(X_train)"
   ]
  },
  {
   "cell_type": "markdown",
   "id": "c3e39638",
   "metadata": {
    "papermill": {
     "duration": 0.01156,
     "end_time": "2023-03-25T00:00:30.527924",
     "exception": false,
     "start_time": "2023-03-25T00:00:30.516364",
     "status": "completed"
    },
    "tags": []
   },
   "source": [
    "# CNN Building"
   ]
  },
  {
   "cell_type": "markdown",
   "id": "0b35002a",
   "metadata": {
    "papermill": {
     "duration": 0.012141,
     "end_time": "2023-03-25T00:00:30.552038",
     "exception": false,
     "start_time": "2023-03-25T00:00:30.539897",
     "status": "completed"
    },
    "tags": []
   },
   "source": [
    "## CNN Architecture"
   ]
  },
  {
   "cell_type": "markdown",
   "id": "1fcd1f96",
   "metadata": {
    "papermill": {
     "duration": 0.012148,
     "end_time": "2023-03-25T00:00:30.576105",
     "exception": false,
     "start_time": "2023-03-25T00:00:30.563957",
     "status": "completed"
    },
    "tags": []
   },
   "source": [
    "CNN Architecture:\n",
    "\n",
    "1. Convolutional Layer:\n",
    "    * The first layer in our CNN is a Conv2D layer, which applies a set of learnable filters to the input image.\n",
    "    * Each filter convolves over the input image, producing a feature map that captures different local features of the image.\n",
    "    * In this model, I have chosen to use 32 filters for the first two Conv2D layers and 64 filters for the last two layers.\n",
    "    * The size of the filters (kernel size) determines the size of the receptive field of the filter and the level of detail that it can capture.\n",
    "    \n",
    "    \n",
    "2. Batch Normalization Layer:\n",
    "    * Batch normalization is a technique used to normalize the inputs of each layer, improving the training speed and performance of the model.\n",
    "    * In this model, I have added a BatchNormalization layer after each Conv2D layer and before the activation function.\n",
    "    * This helps to stabilize the distribution of the inputs to each layer and reduces overfitting.\n",
    "     \n",
    "      \n",
    "3. Activation Function:\n",
    "    * In this model, I have used ReLU (Rectified Linear Unit) activation function in the Conv2D and Dense layers.\n",
    "    * The ReLU activation function adds non-linearity to the network, allowing it to learn more complex features.  \n",
    "    \n",
    "    \n",
    "4. Pooling Layer:\n",
    "    * The pooling layer is used to reduce the spatial dimensions of the feature maps produced by the Conv2D layer.\n",
    "    * In this model, I have used MaxPool2D layer, which selects the maximum value within a pool of adjacent pixels and downsamples the feature map.\n",
    "    * By downsampling the feature maps, we can reduce the computational cost and improve the model's ability to generalize by reducing overfitting.\n",
    "    * The size of the pooling window determines the level of downsampling applied to the feature maps.\n",
    "    \n",
    " \n",
    "5. Dropout Layer:\n",
    "    * Dropout is a regularization technique that randomly ignores a proportion of nodes in the layer during training, forcing the network to learn features in a distributed way.\n",
    "    * In this model, I have used Dropout layer to reduce overfitting and improve generalization.\n",
    "    * The proportion of nodes to drop can be set using a dropout rate hyperparameter.\n",
    "    \n",
    "    \n",
    "6. Flatten Layer:\n",
    "    * The Flatten layer is used to convert the final feature maps produced by the Conv2D and pooling layers into a one-dimensional vector.\n",
    "    * This is necessary to connect the CNN to the fully connected layers, which are artificial neural networks (ANN) classifiers.\n",
    "    \n",
    " \n",
    "7. Dense Layer:\n",
    "    * The fully connected layers are used to classify the input image into one of the predefined classes.\n",
    "    * In our model, we have used two Dense layers, one with 128 neurons, to extract high-level features from the flattened feature maps, and one with 10 neurons, to classify the image.\n",
    "    * The final Dense layer has 10 neurons, one for each possible class, and uses softmax activation to output a probability distribution over the classes."
   ]
  },
  {
   "cell_type": "code",
   "execution_count": 14,
   "id": "f8740bf9",
   "metadata": {
    "execution": {
     "iopub.execute_input": "2023-03-25T00:00:30.602026Z",
     "iopub.status.busy": "2023-03-25T00:00:30.600955Z",
     "iopub.status.idle": "2023-03-25T00:00:34.002008Z",
     "shell.execute_reply": "2023-03-25T00:00:33.999984Z"
    },
    "papermill": {
     "duration": 3.418133,
     "end_time": "2023-03-25T00:00:34.005956",
     "exception": false,
     "start_time": "2023-03-25T00:00:30.587823",
     "status": "completed"
    },
    "tags": []
   },
   "outputs": [],
   "source": [
    "# Create CNN\n",
    "model = Sequential()\n",
    "        \n",
    "model.add(Conv2D(filters=32, kernel_size=(5,5), \n",
    "                 activation='relu', input_shape=(28,28,1)))\n",
    "model.add(BatchNormalization())\n",
    "model.add(Dropout(0.1))\n",
    "model.add(Conv2D(filters=32, kernel_size=(5,5),\n",
    "                 activation='relu'))\n",
    "model.add(BatchNormalization())\n",
    "model.add(MaxPool2D(pool_size=(2,2)))\n",
    "model.add(Dropout(0.1))\n",
    "\n",
    "\n",
    "model.add(Conv2D(filters=64, kernel_size=(3,3),\n",
    "                 activation='relu'))\n",
    "model.add(BatchNormalization())\n",
    "model.add(Dropout(0.2))\n",
    "model.add(Conv2D(filters=64, kernel_size = (3,3),\n",
    "                 activation=\"relu\"))\n",
    "model.add(BatchNormalization())\n",
    "model.add(MaxPool2D(pool_size=(2,2)))\n",
    "model.add(Dropout(0.2))\n",
    "\n",
    "\n",
    "model.add(Flatten())\n",
    "model.add(Dense(128, activation='relu'))\n",
    "model.add(Dropout(0.5))\n",
    "\n",
    "model.add(Dense(10, activation='softmax'))"
   ]
  },
  {
   "cell_type": "markdown",
   "id": "9e4bc719",
   "metadata": {
    "papermill": {
     "duration": 0.030352,
     "end_time": "2023-03-25T00:00:34.067330",
     "exception": false,
     "start_time": "2023-03-25T00:00:34.036978",
     "status": "completed"
    },
    "tags": []
   },
   "source": [
    "## Set up Optimizer and Annealer"
   ]
  },
  {
   "cell_type": "markdown",
   "id": "0812dc6e",
   "metadata": {
    "papermill": {
     "duration": 0.013321,
     "end_time": "2023-03-25T00:00:34.105335",
     "exception": false,
     "start_time": "2023-03-25T00:00:34.092014",
     "status": "completed"
    },
    "tags": []
   },
   "source": [
    "Now that we have added layers to our model, we need to define a scoring function, a loss function, and an optimizer algorithm.\n",
    "* For this project, we will use the Adam optimizer and cross-entropy loss function.\n",
    "* To further improve our model's performance, we can also incorporate a learning rate annealer. This will gradually reduce the learning rate during training, allowing our model to converge more efficiently and reach better results.\n",
    "* We can choose an appropriate annealing method, such as reducing the learning rate by a factor after a certain number of epochs or when the validation loss plateaus. By using an annealer, we can fine-tune the learning process and achieve better accuracy with our model."
   ]
  },
  {
   "cell_type": "code",
   "execution_count": 15,
   "id": "b1947bd7",
   "metadata": {
    "execution": {
     "iopub.execute_input": "2023-03-25T00:00:34.132517Z",
     "iopub.status.busy": "2023-03-25T00:00:34.132197Z",
     "iopub.status.idle": "2023-03-25T00:00:34.155870Z",
     "shell.execute_reply": "2023-03-25T00:00:34.154914Z"
    },
    "papermill": {
     "duration": 0.039412,
     "end_time": "2023-03-25T00:00:34.158151",
     "exception": false,
     "start_time": "2023-03-25T00:00:34.118739",
     "status": "completed"
    },
    "tags": []
   },
   "outputs": [],
   "source": [
    "# Compile the model\n",
    "model.compile(optimizer=\"adam\", loss=\"categorical_crossentropy\", metrics=[\"accuracy\"])"
   ]
  },
  {
   "cell_type": "code",
   "execution_count": 16,
   "id": "c25d3bdf",
   "metadata": {
    "execution": {
     "iopub.execute_input": "2023-03-25T00:00:34.183111Z",
     "iopub.status.busy": "2023-03-25T00:00:34.182819Z",
     "iopub.status.idle": "2023-03-25T00:00:34.187511Z",
     "shell.execute_reply": "2023-03-25T00:00:34.186408Z"
    },
    "papermill": {
     "duration": 0.019989,
     "end_time": "2023-03-25T00:00:34.190078",
     "exception": false,
     "start_time": "2023-03-25T00:00:34.170089",
     "status": "completed"
    },
    "tags": []
   },
   "outputs": [],
   "source": [
    "# Set annealer\n",
    "annealer = LearningRateScheduler(lambda x: 1e-3 * 0.95 ** x)"
   ]
  },
  {
   "cell_type": "markdown",
   "id": "49637ec0",
   "metadata": {
    "papermill": {
     "duration": 0.011467,
     "end_time": "2023-03-25T00:00:34.213365",
     "exception": false,
     "start_time": "2023-03-25T00:00:34.201898",
     "status": "completed"
    },
    "tags": []
   },
   "source": [
    "## Fit the Model"
   ]
  },
  {
   "cell_type": "code",
   "execution_count": 17,
   "id": "550ea3f8",
   "metadata": {
    "_kg_hide-output": true,
    "execution": {
     "iopub.execute_input": "2023-03-25T00:00:34.238186Z",
     "iopub.status.busy": "2023-03-25T00:00:34.237904Z",
     "iopub.status.idle": "2023-03-25T00:07:39.321859Z",
     "shell.execute_reply": "2023-03-25T00:07:39.320844Z"
    },
    "papermill": {
     "duration": 425.098845,
     "end_time": "2023-03-25T00:07:39.324125",
     "exception": false,
     "start_time": "2023-03-25T00:00:34.225280",
     "status": "completed"
    },
    "tags": []
   },
   "outputs": [
    {
     "name": "stdout",
     "output_type": "stream",
     "text": [
      "Epoch 1/30\n"
     ]
    },
    {
     "name": "stderr",
     "output_type": "stream",
     "text": [
      "2023-03-25 00:00:36.409802: E tensorflow/core/grappler/optimizers/meta_optimizer.cc:954] layout failed: INVALID_ARGUMENT: Size of values 0 does not match size of permutation 4 @ fanin shape insequential/dropout/dropout/SelectV2-2-TransposeNHWCToNCHW-LayoutOptimizer\n"
     ]
    },
    {
     "name": "stdout",
     "output_type": "stream",
     "text": [
      "262/262 - 24s - loss: 0.7799 - accuracy: 0.7537 - val_loss: 2.5343 - val_accuracy: 0.4229 - lr: 0.0010 - 24s/epoch - 90ms/step\n",
      "Epoch 2/30\n",
      "262/262 - 11s - loss: 0.2276 - accuracy: 0.9322 - val_loss: 0.1065 - val_accuracy: 0.9671 - lr: 9.5000e-04 - 11s/epoch - 43ms/step\n",
      "Epoch 3/30\n",
      "262/262 - 10s - loss: 0.1621 - accuracy: 0.9514 - val_loss: 0.0440 - val_accuracy: 0.9868 - lr: 9.0250e-04 - 10s/epoch - 39ms/step\n",
      "Epoch 4/30\n",
      "262/262 - 11s - loss: 0.1376 - accuracy: 0.9599 - val_loss: 0.0445 - val_accuracy: 0.9860 - lr: 8.5737e-04 - 11s/epoch - 42ms/step\n",
      "Epoch 5/30\n",
      "262/262 - 10s - loss: 0.1120 - accuracy: 0.9672 - val_loss: 0.0351 - val_accuracy: 0.9893 - lr: 8.1451e-04 - 10s/epoch - 39ms/step\n",
      "Epoch 6/30\n",
      "262/262 - 11s - loss: 0.0990 - accuracy: 0.9705 - val_loss: 0.0356 - val_accuracy: 0.9883 - lr: 7.7378e-04 - 11s/epoch - 41ms/step\n",
      "Epoch 7/30\n",
      "262/262 - 10s - loss: 0.0876 - accuracy: 0.9746 - val_loss: 0.0329 - val_accuracy: 0.9901 - lr: 7.3509e-04 - 10s/epoch - 38ms/step\n",
      "Epoch 8/30\n",
      "262/262 - 10s - loss: 0.0807 - accuracy: 0.9766 - val_loss: 0.0327 - val_accuracy: 0.9906 - lr: 6.9834e-04 - 10s/epoch - 39ms/step\n",
      "Epoch 9/30\n",
      "262/262 - 11s - loss: 0.0726 - accuracy: 0.9785 - val_loss: 0.0341 - val_accuracy: 0.9914 - lr: 6.6342e-04 - 11s/epoch - 42ms/step\n",
      "Epoch 10/30\n",
      "262/262 - 10s - loss: 0.0714 - accuracy: 0.9791 - val_loss: 0.0342 - val_accuracy: 0.9907 - lr: 6.3025e-04 - 10s/epoch - 39ms/step\n",
      "Epoch 11/30\n",
      "262/262 - 10s - loss: 0.0669 - accuracy: 0.9797 - val_loss: 0.0267 - val_accuracy: 0.9924 - lr: 5.9874e-04 - 10s/epoch - 39ms/step\n",
      "Epoch 12/30\n",
      "262/262 - 10s - loss: 0.0595 - accuracy: 0.9815 - val_loss: 0.0251 - val_accuracy: 0.9940 - lr: 5.6880e-04 - 10s/epoch - 39ms/step\n",
      "Epoch 13/30\n",
      "262/262 - 10s - loss: 0.0583 - accuracy: 0.9835 - val_loss: 0.0250 - val_accuracy: 0.9935 - lr: 5.4036e-04 - 10s/epoch - 39ms/step\n",
      "Epoch 14/30\n",
      "262/262 - 10s - loss: 0.0561 - accuracy: 0.9834 - val_loss: 0.0265 - val_accuracy: 0.9932 - lr: 5.1334e-04 - 10s/epoch - 39ms/step\n",
      "Epoch 15/30\n",
      "262/262 - 10s - loss: 0.0615 - accuracy: 0.9830 - val_loss: 0.0237 - val_accuracy: 0.9936 - lr: 4.8767e-04 - 10s/epoch - 39ms/step\n",
      "Epoch 16/30\n",
      "262/262 - 10s - loss: 0.0529 - accuracy: 0.9839 - val_loss: 0.0236 - val_accuracy: 0.9939 - lr: 4.6329e-04 - 10s/epoch - 36ms/step\n",
      "Epoch 17/30\n",
      "262/262 - 11s - loss: 0.0494 - accuracy: 0.9858 - val_loss: 0.0340 - val_accuracy: 0.9912 - lr: 4.4013e-04 - 11s/epoch - 41ms/step\n",
      "Epoch 18/30\n",
      "262/262 - 11s - loss: 0.0470 - accuracy: 0.9863 - val_loss: 0.0227 - val_accuracy: 0.9938 - lr: 4.1812e-04 - 11s/epoch - 40ms/step\n",
      "Epoch 19/30\n",
      "262/262 - 11s - loss: 0.0492 - accuracy: 0.9854 - val_loss: 0.0250 - val_accuracy: 0.9945 - lr: 3.9721e-04 - 11s/epoch - 41ms/step\n",
      "Epoch 20/30\n",
      "262/262 - 10s - loss: 0.0430 - accuracy: 0.9870 - val_loss: 0.0218 - val_accuracy: 0.9940 - lr: 3.7735e-04 - 10s/epoch - 37ms/step\n",
      "Epoch 21/30\n",
      "262/262 - 10s - loss: 0.0421 - accuracy: 0.9876 - val_loss: 0.0223 - val_accuracy: 0.9944 - lr: 3.5849e-04 - 10s/epoch - 39ms/step\n",
      "Epoch 22/30\n",
      "262/262 - 10s - loss: 0.0439 - accuracy: 0.9871 - val_loss: 0.0183 - val_accuracy: 0.9944 - lr: 3.4056e-04 - 10s/epoch - 40ms/step\n",
      "Epoch 23/30\n",
      "262/262 - 11s - loss: 0.0407 - accuracy: 0.9876 - val_loss: 0.0203 - val_accuracy: 0.9942 - lr: 3.2353e-04 - 11s/epoch - 42ms/step\n",
      "Epoch 24/30\n",
      "262/262 - 10s - loss: 0.0357 - accuracy: 0.9891 - val_loss: 0.0267 - val_accuracy: 0.9929 - lr: 3.0736e-04 - 10s/epoch - 36ms/step\n",
      "Epoch 25/30\n",
      "262/262 - 11s - loss: 0.0378 - accuracy: 0.9892 - val_loss: 0.0207 - val_accuracy: 0.9945 - lr: 2.9199e-04 - 11s/epoch - 41ms/step\n",
      "Epoch 26/30\n",
      "262/262 - 10s - loss: 0.0381 - accuracy: 0.9885 - val_loss: 0.0245 - val_accuracy: 0.9943 - lr: 2.7739e-04 - 10s/epoch - 39ms/step\n",
      "Epoch 27/30\n",
      "262/262 - 10s - loss: 0.0362 - accuracy: 0.9897 - val_loss: 0.0226 - val_accuracy: 0.9945 - lr: 2.6352e-04 - 10s/epoch - 37ms/step\n",
      "Epoch 28/30\n",
      "262/262 - 10s - loss: 0.0340 - accuracy: 0.9898 - val_loss: 0.0214 - val_accuracy: 0.9951 - lr: 2.5034e-04 - 10s/epoch - 39ms/step\n",
      "Epoch 29/30\n",
      "262/262 - 10s - loss: 0.0329 - accuracy: 0.9902 - val_loss: 0.0211 - val_accuracy: 0.9950 - lr: 2.3783e-04 - 10s/epoch - 40ms/step\n",
      "Epoch 30/30\n",
      "262/262 - 10s - loss: 0.0333 - accuracy: 0.9899 - val_loss: 0.0186 - val_accuracy: 0.9957 - lr: 2.2594e-04 - 10s/epoch - 39ms/step\n"
     ]
    }
   ],
   "source": [
    "# set epochs and batch_size\n",
    "epochs = 30\n",
    "batch_size = 128\n",
    "\n",
    "# Fit the model\n",
    "history = model.fit(datagen.flow(X_train,y_train, batch_size=batch_size), \n",
    "                    epochs = epochs, validation_data = (X_val,y_val),\n",
    "                    verbose = 2, steps_per_epoch=X_train.shape[0] // batch_size,\n",
    "                    callbacks=[annealer],)"
   ]
  },
  {
   "cell_type": "code",
   "execution_count": 18,
   "id": "bfc610be",
   "metadata": {
    "execution": {
     "iopub.execute_input": "2023-03-25T00:07:39.355995Z",
     "iopub.status.busy": "2023-03-25T00:07:39.355393Z",
     "iopub.status.idle": "2023-03-25T00:07:39.361407Z",
     "shell.execute_reply": "2023-03-25T00:07:39.360492Z"
    },
    "papermill": {
     "duration": 0.023859,
     "end_time": "2023-03-25T00:07:39.363512",
     "exception": false,
     "start_time": "2023-03-25T00:07:39.339653",
     "status": "completed"
    },
    "tags": []
   },
   "outputs": [],
   "source": [
    "history_df = pd.DataFrame(history.history)"
   ]
  },
  {
   "cell_type": "code",
   "execution_count": 19,
   "id": "3eb73d46",
   "metadata": {
    "execution": {
     "iopub.execute_input": "2023-03-25T00:07:39.394311Z",
     "iopub.status.busy": "2023-03-25T00:07:39.394034Z",
     "iopub.status.idle": "2023-03-25T00:07:39.696864Z",
     "shell.execute_reply": "2023-03-25T00:07:39.695813Z"
    },
    "papermill": {
     "duration": 0.321265,
     "end_time": "2023-03-25T00:07:39.699409",
     "exception": false,
     "start_time": "2023-03-25T00:07:39.378144",
     "status": "completed"
    },
    "tags": []
   },
   "outputs": [
    {
     "data": {
      "image/png": "[encoded data removed]",
      "text/plain": [
       "<Figure size 1400x800 with 1 Axes>"
      ]
     },
     "metadata": {},
     "output_type": "display_data"
    },
    {
     "name": "stdout",
     "output_type": "stream",
     "text": [
      "Minimum validation loss: 0.0182510893791914\n"
     ]
    }
   ],
   "source": [
    "plt.figure(figsize = (14, 8))\n",
    "sns.set_style('white')\n",
    "\n",
    "plt.plot(history.history['loss'], color='k', label=\"Training loss\")\n",
    "plt.plot(history.history['val_loss'], color='r', label=\"Validation loss\")\n",
    "\n",
    "plt.legend(['Training Loss', 'Validation Loss'])\n",
    "\n",
    "sns.despine()\n",
    "plt.show()\n",
    "\n",
    "print(\"Minimum validation loss: {}\".format(history_df['val_loss'].min()))"
   ]
  },
  {
   "cell_type": "code",
   "execution_count": 20,
   "id": "f694fcf6",
   "metadata": {
    "execution": {
     "iopub.execute_input": "2023-03-25T00:07:39.731794Z",
     "iopub.status.busy": "2023-03-25T00:07:39.731500Z",
     "iopub.status.idle": "2023-03-25T00:07:40.014021Z",
     "shell.execute_reply": "2023-03-25T00:07:40.012750Z"
    },
    "papermill": {
     "duration": 0.300988,
     "end_time": "2023-03-25T00:07:40.016217",
     "exception": false,
     "start_time": "2023-03-25T00:07:39.715229",
     "status": "completed"
    },
    "tags": []
   },
   "outputs": [
    {
     "data": {
      "image/png": "[encoded data removed]",
      "text/plain": [
       "<Figure size 1400x800 with 1 Axes>"
      ]
     },
     "metadata": {},
     "output_type": "display_data"
    },
    {
     "name": "stdout",
     "output_type": "stream",
     "text": [
      "Maximum validation accuracy: 0.9957143068313599\n"
     ]
    }
   ],
   "source": [
    "plt.figure(figsize = (14, 8))\n",
    "sns.set_style('white')\n",
    "\n",
    "plt.plot(history.history['accuracy'], color='k', label=\"Training accuracy\")\n",
    "plt.plot(history.history['val_accuracy'], color='r', label=\"Validation accuracy\")\n",
    "\n",
    "plt.legend(['Training Accuracy', 'Validation Accuracy'])\n",
    "\n",
    "sns.despine()\n",
    "plt.show()\n",
    "\n",
    "print(\"Maximum validation accuracy: {}\".format(history_df['val_accuracy'].max()))"
   ]
  },
  {
   "cell_type": "markdown",
   "id": "3932fc63",
   "metadata": {
    "papermill": {
     "duration": 0.015541,
     "end_time": "2023-03-25T00:07:40.047664",
     "exception": false,
     "start_time": "2023-03-25T00:07:40.032123",
     "status": "completed"
    },
    "tags": []
   },
   "source": [
    "# Prediction"
   ]
  },
  {
   "cell_type": "code",
   "execution_count": 21,
   "id": "f555b263",
   "metadata": {
    "execution": {
     "iopub.execute_input": "2023-03-25T00:07:40.081029Z",
     "iopub.status.busy": "2023-03-25T00:07:40.080124Z",
     "iopub.status.idle": "2023-03-25T00:07:43.040782Z",
     "shell.execute_reply": "2023-03-25T00:07:43.039711Z"
    },
    "papermill": {
     "duration": 2.980481,
     "end_time": "2023-03-25T00:07:43.044038",
     "exception": false,
     "start_time": "2023-03-25T00:07:40.063557",
     "status": "completed"
    },
    "tags": []
   },
   "outputs": [
    {
     "name": "stdout",
     "output_type": "stream",
     "text": [
      "875/875 [==============================] - 2s 2ms/step\n"
     ]
    }
   ],
   "source": [
    "# predict results\n",
    "results = model.predict(test)\n",
    "\n",
    "# select the indix with the maximum probability\n",
    "results = np.argmax(results,axis = 1)\n",
    "\n",
    "results = pd.Series(results,name=\"Label\")"
   ]
  },
  {
   "cell_type": "code",
   "execution_count": 22,
   "id": "9cfe1448",
   "metadata": {
    "execution": {
     "iopub.execute_input": "2023-03-25T00:07:43.081896Z",
     "iopub.status.busy": "2023-03-25T00:07:43.081558Z",
     "iopub.status.idle": "2023-03-25T00:07:43.120254Z",
     "shell.execute_reply": "2023-03-25T00:07:43.119336Z"
    },
    "papermill": {
     "duration": 0.059533,
     "end_time": "2023-03-25T00:07:43.122431",
     "exception": false,
     "start_time": "2023-03-25T00:07:43.062898",
     "status": "completed"
    },
    "tags": []
   },
   "outputs": [],
   "source": [
    "submissions=pd.DataFrame({\"ImageId\": list(range(1,len(results)+1)),\n",
    "                         \"Label\": results})\n",
    "submissions.to_csv(\"submission.csv\", index=False, header=True)"
   ]
  }
 ],
 "metadata": {
  "kernelspec": {
   "display_name": "Python 3",
   "language": "python",
   "name": "python3"
  },
  "language_info": {
   "codemirror_mode": {
    "name": "ipython",
    "version": 3
   },
   "file_extension": ".py",
   "mimetype": "text/x-python",
   "name": "python",
   "nbconvert_exporter": "python",
   "pygments_lexer": "ipython3",
   "version": "3.7.12"
  },
  "papermill": {
   "default_parameters": {},
   "duration": 479.914687,
   "end_time": "2023-03-25T00:07:45.961399",
   "environment_variables": {},
   "exception": null,
   "input_path": "__notebook__.ipynb",
   "output_path": "__notebook__.ipynb",
   "parameters": {},
   "start_time": "2023-03-24T23:59:46.046712",
   "version": "2.4.0"
  }
 },
 "nbformat": 4,
 "nbformat_minor": 5
}
